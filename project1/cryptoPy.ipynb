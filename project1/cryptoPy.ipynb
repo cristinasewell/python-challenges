# Dependencies and Setup
#import matplotlib.pyplot as plt
#import pandas as pd
#import scipy.stats as st
#import numpy as np

# Study data files
#bitcoin_path = "Resources/coin_Bitcoin.csv"
#ethereum_path = "Resources/coin_Ethereum.csv"
#cardano_path = "Resources/coin_Cardano.csv"
#dogecoin_path = "Resources/coin_Dogecoin.csv"
#polkadot_path = "Resources/coin_Polkadot.csv"

# Read the crypto history data and form dataframes
#bitcoinData = pd.read_csv(bitcoin_path)
#ethereumData = pd.read_csv(ethereum_path)
#cardanoData = pd.read_csv(cardano_path)
#dogecoinData = pd.read_csv(dogecoin_path)
#polkadotData = pd.read_csv(polkadot_path)

#bitData_df = pd.DataFrame(bitcoinData)
#ethData_df = pd.DataFrame(ethereumData)
#anaData_df = pd.DataFrame(cardanoData)
#dogeData_df = pd.DataFrame(dogecoinData)
#dotData_df = pd.DataFrame(polkadotData)